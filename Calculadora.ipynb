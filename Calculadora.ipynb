{
  "nbformat": 4,
  "nbformat_minor": 0,
  "metadata": {
    "colab": {
      "provenance": []
    },
    "kernelspec": {
      "name": "python3",
      "display_name": "Python 3"
    },
    "language_info": {
      "name": "python"
    }
  },
  "cells": [
    {
      "cell_type": "markdown",
      "source": [],
      "metadata": {
        "id": "QwM463RlYcQY"
      }
    },
    {
      "cell_type": "markdown",
      "source": [
        "##Projeto 1 - Calculadora\n",
        "\n",
        "\n",
        "\n",
        "\n",
        "\n",
        "\n",
        "\n",
        "*   Utilize o comando ‘input’ para receber ao menos 2 números de entrada do usuário;\n",
        "\n",
        "*   Converta os valores recebidos pelo usuário para número inteiro (int) ou ponto flutuante (float);\n",
        "*   Implemente ao menos 4 operações matemáticas em seu código;\n",
        "\n",
        "\n",
        "*   Adicione um laço de repetição ou uma condicional. Por exemplo: você pode permitir que o usuário escolha qual operação realizar ou criar um loop que permita ao usuário realizar várias operações consecutivas;\n",
        "\n",
        "*   Utilize o comando ‘print’ para exibir o resultado da operação matemática.\n"
      ],
      "metadata": {
        "id": "yqx9epqyX3fP"
      }
    },
    {
      "cell_type": "code",
      "execution_count": null,
      "metadata": {
        "colab": {
          "base_uri": "https://localhost:8080/"
        },
        "id": "uCZ5xwQZXlKF",
        "outputId": "e75bd9ea-d594-4780-b236-ea03c7e3023f"
      },
      "outputs": [
        {
          "output_type": "stream",
          "name": "stdout",
          "text": [
            "Digite o primeiro número: 5\n",
            "Digite o segundo número: 12\n",
            "\n",
            "Escolha a operação:\n",
            "1. Adição\n",
            "2. Subtração\n",
            "3. Multiplicação\n",
            "4. Divisão\n",
            "5. Sair\n",
            "Digite o número da operação desejada: 3\n",
            "O resultado da multiplicação é: 60.0\n",
            "\n",
            "Digite o primeiro número: 2000\n",
            "Digite o segundo número: 5345\n",
            "\n",
            "Escolha a operação:\n",
            "1. Adição\n",
            "2. Subtração\n",
            "3. Multiplicação\n",
            "4. Divisão\n",
            "5. Sair\n",
            "Digite o número da operação desejada: 3\n",
            "O resultado da multiplicação é: 10690000.0\n",
            "\n",
            "Digite o primeiro número: 369.34\n",
            "Digite o segundo número: 12.439\n",
            "\n",
            "Escolha a operação:\n",
            "1. Adição\n",
            "2. Subtração\n",
            "3. Multiplicação\n",
            "4. Divisão\n",
            "5. Sair\n",
            "Digite o número da operação desejada: 3\n",
            "O resultado da multiplicação é: 4594.22026\n",
            "\n"
          ]
        }
      ],
      "source": [
        "def calculadora(): #Define uma função chamada calculadora\n",
        "    while True: #Inicia um laço infinito que só será interrompido quando o usuário escolher sair.\n",
        "        # Receber dois números de entrada do usuário\n",
        "        num1 = float(input(\"Digite o primeiro número: \")) #Solicita ao usuário que digite o primeiro número e o converte para um número de ponto flutuante (float).\n",
        "        num2 = float(input(\"Digite o segundo número: \")) #Solicita ao usuário que digite o segundo número e o converte para um número de ponto flutuante (float).\n",
        "\n",
        "        # Exibir opções de operações\n",
        "        print(\"\\nEscolha a operação:\") #Exibe uma mensagem para o usuário escolher a operação.\n",
        "        print(\"1. Adição\") #Exibe a opção de adição.\n",
        "        print(\"2. Subtração\") #Exibe a opção de subtração.\n",
        "        print(\"3. Multiplicação\") #Exibe a opção de multiplicação.\n",
        "        print(\"4. Divisão\") #Exibe a opção de divisão.\n",
        "        print(\"5. Sair\") #Exibe a opção de sair.\n",
        "\n",
        "        # Receber a escolha do usuário\n",
        "        escolha = input(\"Digite o número da operação desejada: \") #Solicita ao usuário que digite o número da operação desejada.\n",
        "\n",
        "        # Realizar a operação escolhida\n",
        "        if escolha == '1': #Verifica se a escolha do usuário é a operação de adição.\n",
        "            resultado = num1 + num2 #Realiza a operação de adição dos números digitados pelo usuário.\n",
        "            print(f\"O resultado da adição é: {resultado}\\n\") #Exibe o resultado da operação de adição.\n",
        "        elif escolha == '2': #Verifica se a escolha do usuário é a operação de subtração.\n",
        "            resultado = num1 - num2 #Realiza a operação de subtração dos números digitados pelo usuário.\n",
        "            print(f\"O resultado da subtração é: {resultado}\\n\") #Exibe o resultado da operação de subtração.\n",
        "        elif escolha == '3': #Verifica se a escolha do usuário é a operação de multiplicação.\n",
        "            resultado = num1 * num2 #Realiza a operação de multiplicação dos números digitados pelo usuário.\n",
        "            print(f\"O resultado da multiplicação é: {resultado}\\n\") #Exibe o resultado da operação de multiplicação.\n",
        "        elif escolha == '4': #Verifica se a escolha do usuário é a operação de divisão.\n",
        "            if num2 != 0: # Verifica se o segundo número não é zero para evitar divisão por zero.\n",
        "                resultado = num1 / num2 #Calcula a divisão dos dois números.\n",
        "                print(f\"O resultado da divisão é: {resultado}\\n\") #Exibe resultado da divisão.\n",
        "            else: #Caso o segundo número seja zero, executa o bloco de código abaixo.\n",
        "                print(\"Erro: Divisão por zero não é permitida.\\n\") #Exibe uma mensagem de erro para divisão por zero.\n",
        "        elif escolha == '5': #Verifica se a escolha do usuário é sair da calculadora.\n",
        "            print(\"Saindo da calculadora.\") #Exibe uma mensagem de saída da calculadora.\n",
        "            break #Interrompe o laço while e sai da função calculadora.\n",
        "        else: # Caso a escolha do usuário não corresponda a nenhuma das opções acima, executa o bloco de código abaixo.\n",
        "            print(\"Escolha inválida. Tente novamente.\\n\") #Exibe uma mensagem de escolha inválida.\n",
        "\n",
        "# Chamar a função calculadora para iniciar o programa\n",
        "calculadora()\n"
      ]
    }
  ]
}